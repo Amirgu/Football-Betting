{
 "cells": [
  {
   "cell_type": "code",
   "execution_count": 2,
   "metadata": {},
   "outputs": [],
   "source": [
    "import numpy as np\n",
    "from Poisson import *\n",
    "import math as mt\n",
    "from dataset import *\n",
    "import mpmath\n",
    "from Time_series import *\n",
    "from team import *\n",
    "from Tests import * "
   ]
  },
  {
   "attachments": {},
   "cell_type": "markdown",
   "metadata": {},
   "source": [
    "Setting Precision of Mpmath:"
   ]
  },
  {
   "cell_type": "code",
   "execution_count": 10,
   "metadata": {},
   "outputs": [
    {
     "name": "stdout",
     "output_type": "stream",
     "text": [
      "Mpmath settings:\n",
      "  mp.prec = 53                [default: 53]\n",
      "  mp.dps = 15                 [default: 15]\n",
      "  mp.trap_complex = False     [default: False]\n"
     ]
    }
   ],
   "source": [
    "mpmath.mp.dps=10\n",
    "\n",
    "print(mpmath.mp)"
   ]
  },
  {
   "attachments": {},
   "cell_type": "markdown",
   "metadata": {},
   "source": [
    "Checking Gradient of log"
   ]
  },
  {
   "cell_type": "code",
   "execution_count": 11,
   "metadata": {},
   "outputs": [
    {
     "name": "stdout",
     "output_type": "stream",
     "text": [
      "Success\n"
     ]
    }
   ],
   "source": [
    "gradcheck()"
   ]
  },
  {
   "attachments": {},
   "cell_type": "markdown",
   "metadata": {},
   "source": [
    "Loading the dataset:"
   ]
  },
  {
   "cell_type": "code",
   "execution_count": 12,
   "metadata": {},
   "outputs": [],
   "source": [
    "Dataset=FootballDataset('E0_2022.csv')\n",
    "data=Dataset.data\n",
    "team_names=Dataset.team_names()"
   ]
  },
  {
   "attachments": {},
   "cell_type": "markdown",
   "metadata": {},
   "source": [
    "Static/Semi-Dynamic Estimation:\n"
   ]
  },
  {
   "cell_type": "code",
   "execution_count": 13,
   "metadata": {},
   "outputs": [],
   "source": [
    "from scipy.optimize import minimize\n",
    "import numpy as np\n",
    "import math\n",
    "np.seterr(over='raise')\n",
    "\n",
    "\n",
    "\n",
    "def static_semidynamic_compute(fphi,data,t,Weighting=False):\n",
    "    \"\"\"\n",
    "    Static and Semi-Dynamic Computation of Parameters\n",
    "    \"\"\"\n",
    "\n",
    "    f = fphi[:40]\n",
    "    phi = fphi[40:]\n",
    "    s = 0\n",
    "    k=0\n",
    "    nu=0.1\n",
    "    Log_loss=0.\n",
    "    for i in range(t):\n",
    "        home = data[i]['HomeTeam']\n",
    "        away = data[i]['AwayTeam']\n",
    "        jh = int([k for k in range(1, 21) if team_names[k] == home][0]) - 1\n",
    "        ja = int([k for k in range(1, 21) if team_names[k] == away][0]) - 1\n",
    "        x = int(data[i]['FTHG'])\n",
    "        y = int(data[i]['FTAG'])\n",
    "        alpha_i, alpha_j, beta_i, beta_j = f[jh], f[ja], f[jh + 20], f[ja + 20]\n",
    "        lam1 = mpmath.exp(phi[0] + alpha_i - beta_j)\n",
    "        lam2 = mpmath.exp(alpha_j - beta_i)\n",
    "        lam3 = phi[1]\n",
    "        Log_loss+= -mpmath.log(density(x, y, lam1, lam2, lam3))\n",
    "\n",
    "        if Weighting:\n",
    "            if i % 10 == 0:\n",
    "                k+=1\n",
    "                s += (mpmath.exp(-nu*k))*Log_loss\n",
    "                Log_loss=0\n",
    "\n",
    "    return s\n",
    "\n",
    "def constraint_func(fphi):\n",
    "    f = fphi[:40]\n",
    "    phi = fphi[40:]\n",
    "    return np.sum(f[:20])  # Sum of first 20 elements of f should be zero, phi[1] should be positive\n",
    "\n",
    "# define the initial guess for the parameters\n",
    "fphi_init = np.ones(42)\n",
    "fphi_init[:10] = 1/2 * np.ones(10)\n",
    "fphi_init[10:20] = -1/2 * np.ones(10)\n",
    "\n",
    "# define the constraints\n",
    "constraints = [{'type': 'eq', 'fun': constraint_func}]\n",
    "\n",
    "# define the bounds\n",
    "bounds = [(None,None)] * 40 + [(0, None), (0.001, None)]\n",
    "\n",
    "# use the minimize function to minimize the static_compute function\n",
    "result = minimize(static_semidynamic_compute, fphi_init, args=(data), constraints=constraints, bounds=bounds)"
   ]
  },
  {
   "cell_type": "code",
   "execution_count": 14,
   "metadata": {},
   "outputs": [
    {
     "name": "stdout",
     "output_type": "stream",
     "text": [
      "Liverpool\n",
      "16\n",
      "[ 0.08669425  0.14118779  0.43085673  0.06757545 -0.07175179 -0.47744926\n",
      " -0.80472452  0.17331634 -0.58784355 -1.19326657 -0.35590384  0.88754268\n",
      "  0.16193841 -0.06113368 -0.31539851 -0.19011739  0.69742143  0.29051178\n",
      "  0.40523473  0.71530953  0.12135144 -0.0734551   0.13070563  0.29539287\n",
      "  0.35556113  0.30812893  0.31552493  0.23251046  0.68528673 -0.30815123\n",
      "  0.52745885  0.95926371  0.11602023 -0.27517513 -0.24168406 -0.31324698\n",
      "  1.54543524 -0.14169365  0.27997708  1.49103276  0.36270366  0.21896959]\n"
     ]
    }
   ],
   "source": [
    "bestat=np.argmax(result.x[:20])\n",
    "print(team_names[bestat+1])\n",
    "print(np.argmax(result.x[20:40]))\n",
    "print(result.x)\n",
    "f0=(result.x[:40]).copy()\n"
   ]
  },
  {
   "attachments": {},
   "cell_type": "markdown",
   "metadata": {},
   "source": [
    "Dynamic Model"
   ]
  },
  {
   "cell_type": "code",
   "execution_count": 37,
   "metadata": {},
   "outputs": [],
   "source": [
    "def compute_scores(data,team_names,t,f0,phi):\n",
    "    \"\"\"\n",
    "    Dynamic Estimation of parameters\n",
    "    \n",
    "    \"\"\"\n",
    "  \n",
    "    Teams=[Team_score(team_names,i,f0[i-1],f0[19+i]) for i in range(1,21)]\n",
    "    ###f0 shape 2N\n",
    "    B=Mat_A(phi[2],phi[3])\n",
    "    omega=(1-np.diag(B)) * f0\n",
    "    sig=phi[4]\n",
    "    lam3=phi[5]\n",
    "    s=0\n",
    "    f=f0.copy()\n",
    "    for i in range(21,t):\n",
    "        Home= data[i]['HomeTeam']     #### Home Team name\n",
    "        Away= data[i]['AwayTeam'] \n",
    "        jh=int([k for k in range(1,21) if team_names[k]== Home ][0]) -1   \n",
    "        \n",
    "        ja=int([k for k in range(1,21) if team_names[k]== Away ][0]) -1 \n",
    "        \n",
    "        x=int(data[i]['FTHG'] )            \n",
    "        y=int(data[i]['FTAG'] )\n",
    "        \n",
    "        M_ij=Mat_M(jh,ja)\n",
    "        \n",
    "        omega_ij= M_ij @ omega\n",
    "        \n",
    "        f_ij=update_score(jh,ja,x,y,f,phi,omega_ij)\n",
    "        \n",
    "        Teams[jh].update(f_ij[0],f_ij[2])\n",
    "        Teams[ja].update(f_ij[1],f_ij[3])\n",
    "\n",
    "        lam1= mpmath.exp(sig+f_ij[0]-f_ij[2])\n",
    "        lam2= mpmath.exp(f_ij[1]-f_ij[3])\n",
    "        \n",
    "        s += -mpmath.log(density(x, y, lam1, lam2, lam3))\n",
    "        \n",
    "        f[jh],f[jh+20],f[ja],f[ja+20] = f_ij\n",
    "   \n",
    "    return f,s\n",
    "        "
   ]
  },
  {
   "cell_type": "code",
   "execution_count": 52,
   "metadata": {},
   "outputs": [
    {
     "name": "stdout",
     "output_type": "stream",
     "text": [
      "[  5.89390576   6.86175966   4.46854598   6.63572083 -20.69680565\n",
      " -21.66511947   4.92606334  50.00029352 -14.86969979 -21.93979721\n",
      "  20.47530533   5.50592999   6.76762494   8.52301523   5.89615426\n",
      "   6.71481146   6.17654275 -13.89884518 -33.05018036 -12.72522539\n",
      "  50.9696342   20.3453708  -19.72845127   6.57965435  30.46640004\n",
      "   8.10531841  96.50573175   5.20125704   6.73948486   7.13697423\n",
      "   6.16911576  25.96718389  28.75314372 -21.66410323   6.59814601\n",
      "   6.29927954   6.0027663    5.93852899   3.82745617 -20.69678617]\n"
     ]
    }
   ],
   "source": [
    "f0=result.x[:40].copy()\n",
    "print(f0)"
   ]
  },
  {
   "cell_type": "code",
   "execution_count": 88,
   "metadata": {},
   "outputs": [
    {
     "data": {
      "text/plain": [
       "{1: 'Man City',\n",
       " 2: 'Chelsea',\n",
       " 3: 'Burnley',\n",
       " 4: 'Norwich',\n",
       " 5: 'Aston Villa',\n",
       " 6: 'Tottenham',\n",
       " 7: 'Everton',\n",
       " 8: 'Crystal Palace',\n",
       " 9: 'Southampton',\n",
       " 10: 'Newcastle',\n",
       " 11: 'West Ham',\n",
       " 12: 'Brentford',\n",
       " 13: 'Liverpool',\n",
       " 14: 'Arsenal',\n",
       " 15: 'Brighton',\n",
       " 16: 'Watford',\n",
       " 17: 'Wolves',\n",
       " 18: 'Man United',\n",
       " 19: 'Leicester',\n",
       " 20: 'Leeds'}"
      ]
     },
     "execution_count": 88,
     "metadata": {},
     "output_type": "execute_result"
    }
   ],
   "source": [
    "team_names"
   ]
  },
  {
   "cell_type": "code",
   "execution_count": 95,
   "metadata": {},
   "outputs": [
    {
     "name": "stdout",
     "output_type": "stream",
     "text": [
      "Optimization successful!\n",
      "Optimal phi: [0.01 0.1  0.5  0.99 0.1  0.01]\n",
      "Optimal second variable (s): 1378.07560556706\n"
     ]
    }
   ],
   "source": [
    "f=np.zeros(40)\n",
    "f[:20]=0.44*np.ones(20)\n",
    "def objective_function(phi):\n",
    "    _, s = compute_scores(Dataset, data, team_names, 380,0.44* np.ones(40), phi)\n",
    "    return -s  # Negate s to convert maximization to minimization\n",
    "\n",
    "# Define the bounds for phi elements (positive bounds)\n",
    "bounds = [(0.01, 0.1)] * 2+[(0.5, 0.99)] * 2+[(0.1, 0.44)] + [(0.01,0.1)]# Assuming all elements of phi have positive bounds\n",
    "\n",
    "# Perform optimization\n",
    "initial_phi = np.array([0.01,0.01,0.9,0.9,0.36,0.1])  # Initial guess for phi\n",
    "result = minimize(objective_function, initial_phi, bounds=bounds)\n",
    "\n",
    "# Check if optimization was successful\n",
    "if result.success:\n",
    "    optimal_phi = result.x\n",
    "    _, optimal_s = compute_scores(Dataset, data, team_names, 380,f, optimal_phi)\n",
    "    print(\"Optimization successful!\")\n",
    "    print(\"Optimal phi:\", optimal_phi)\n",
    "    print(\"Optimal second variable (s):\", optimal_s)\n",
    "else:\n",
    "    print(\"Optimization failed:\", result.message)"
   ]
  },
  {
   "cell_type": "code",
   "execution_count": 96,
   "metadata": {},
   "outputs": [
    {
     "name": "stdout",
     "output_type": "stream",
     "text": [
      "[0.77433875 0.5324688  0.63244738 0.6647909  1.03205459 0.69073612\n",
      " 1.14344742 0.57393251 1.2510292  1.1722182  0.9805599  0.8528959\n",
      " 0.61833709 0.70492561 0.65764216 0.67346783 1.31070785 1.25351065\n",
      " 0.82492775 0.9251269  0.49253741 0.53436381 0.67023813 0.56266125\n",
      " 0.7566932  0.83567697 0.51646588 0.9547779  0.67204331 1.01280085\n",
      " 0.60484307 0.54327959 0.53652394 0.53705378 0.49654174 0.71531426\n",
      " 0.71511099 0.75283645 0.55114621 0.9336616 ]\n"
     ]
    }
   ],
   "source": [
    "L,s=compute_scores(Dataset, data, team_names, 380, f, optimal_phi)\n",
    "print(L)"
   ]
  }
 ],
 "metadata": {
  "kernelspec": {
   "display_name": "Python 3",
   "language": "python",
   "name": "python3"
  },
  "language_info": {
   "codemirror_mode": {
    "name": "ipython",
    "version": 3
   },
   "file_extension": ".py",
   "mimetype": "text/x-python",
   "name": "python",
   "nbconvert_exporter": "python",
   "pygments_lexer": "ipython3",
   "version": "3.8.10"
  },
  "orig_nbformat": 4
 },
 "nbformat": 4,
 "nbformat_minor": 2
}
